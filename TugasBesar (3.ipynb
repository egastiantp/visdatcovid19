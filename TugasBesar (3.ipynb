{
 "cells": [
  {
   "cell_type": "code",
   "execution_count": 1,
   "metadata": {
    "id": "VtcZmDvQ9ZaD"
   },
   "outputs": [],
   "source": [
    "import pandas as pd\n",
    "from bokeh.io import curdoc\n",
    "from bokeh.plotting import figure, show\n",
    "from bokeh.models import HoverTool, ColumnDataSource\n",
    "from bokeh.models import CategoricalColorMapper\n",
    "from bokeh.palettes import Spectral6\n",
    "from bokeh.layouts import widgetbox, row, gridplot\n",
    "from bokeh.models import Slider, Select"
   ]
  },
  {
   "cell_type": "code",
   "execution_count": 2,
   "metadata": {
    "colab": {
     "base_uri": "https://localhost:8080/",
     "height": 356
    },
    "id": "kKKBdH77IkwL",
    "outputId": "046e7362-aa05-411d-dda0-11d44c519a5e"
   },
   "outputs": [
    {
     "data": {
      "text/html": [
       "<div>\n",
       "<style scoped>\n",
       "    .dataframe tbody tr th:only-of-type {\n",
       "        vertical-align: middle;\n",
       "    }\n",
       "\n",
       "    .dataframe tbody tr th {\n",
       "        vertical-align: top;\n",
       "    }\n",
       "\n",
       "    .dataframe thead th {\n",
       "        text-align: right;\n",
       "    }\n",
       "</style>\n",
       "<table border=\"1\" class=\"dataframe\">\n",
       "  <thead>\n",
       "    <tr style=\"text-align: right;\">\n",
       "      <th></th>\n",
       "      <th>date</th>\n",
       "      <th>death</th>\n",
       "      <th>deathIncrease</th>\n",
       "      <th>inIcuCumulative</th>\n",
       "      <th>inIcuCurrently</th>\n",
       "      <th>hospitalizedIncrease</th>\n",
       "      <th>hospitalizedCurrently</th>\n",
       "      <th>hospitalizedCumulative</th>\n",
       "      <th>negative</th>\n",
       "      <th>negativeIncrease</th>\n",
       "      <th>onVentilatorCumulative</th>\n",
       "      <th>onVentilatorCurrently</th>\n",
       "      <th>positive</th>\n",
       "      <th>positiveIncrease</th>\n",
       "      <th>states</th>\n",
       "      <th>totalTestResults</th>\n",
       "      <th>totalTestResultsIncrease</th>\n",
       "    </tr>\n",
       "  </thead>\n",
       "  <tbody>\n",
       "    <tr>\n",
       "      <th>0</th>\n",
       "      <td>2021-03-07</td>\n",
       "      <td>515151.0</td>\n",
       "      <td>842</td>\n",
       "      <td>45475.0</td>\n",
       "      <td>8134.0</td>\n",
       "      <td>726</td>\n",
       "      <td>40199.0</td>\n",
       "      <td>776361.0</td>\n",
       "      <td>74582825.0</td>\n",
       "      <td>131835</td>\n",
       "      <td>4281.0</td>\n",
       "      <td>2802.0</td>\n",
       "      <td>28756489.0</td>\n",
       "      <td>41835</td>\n",
       "      <td>56</td>\n",
       "      <td>363825123</td>\n",
       "      <td>1170059</td>\n",
       "    </tr>\n",
       "    <tr>\n",
       "      <th>1</th>\n",
       "      <td>2021-03-06</td>\n",
       "      <td>514309.0</td>\n",
       "      <td>1680</td>\n",
       "      <td>45453.0</td>\n",
       "      <td>8409.0</td>\n",
       "      <td>503</td>\n",
       "      <td>41401.0</td>\n",
       "      <td>775635.0</td>\n",
       "      <td>74450990.0</td>\n",
       "      <td>143835</td>\n",
       "      <td>4280.0</td>\n",
       "      <td>2811.0</td>\n",
       "      <td>28714654.0</td>\n",
       "      <td>60015</td>\n",
       "      <td>56</td>\n",
       "      <td>362655064</td>\n",
       "      <td>1430992</td>\n",
       "    </tr>\n",
       "    <tr>\n",
       "      <th>2</th>\n",
       "      <td>2021-03-05</td>\n",
       "      <td>512629.0</td>\n",
       "      <td>2221</td>\n",
       "      <td>45373.0</td>\n",
       "      <td>8634.0</td>\n",
       "      <td>2781</td>\n",
       "      <td>42541.0</td>\n",
       "      <td>775132.0</td>\n",
       "      <td>74307155.0</td>\n",
       "      <td>271917</td>\n",
       "      <td>4275.0</td>\n",
       "      <td>2889.0</td>\n",
       "      <td>28654639.0</td>\n",
       "      <td>68787</td>\n",
       "      <td>56</td>\n",
       "      <td>361224072</td>\n",
       "      <td>1744417</td>\n",
       "    </tr>\n",
       "    <tr>\n",
       "      <th>3</th>\n",
       "      <td>2021-03-04</td>\n",
       "      <td>510408.0</td>\n",
       "      <td>1743</td>\n",
       "      <td>45293.0</td>\n",
       "      <td>8970.0</td>\n",
       "      <td>1530</td>\n",
       "      <td>44172.0</td>\n",
       "      <td>772351.0</td>\n",
       "      <td>74035238.0</td>\n",
       "      <td>177957</td>\n",
       "      <td>4267.0</td>\n",
       "      <td>2973.0</td>\n",
       "      <td>28585852.0</td>\n",
       "      <td>65487</td>\n",
       "      <td>56</td>\n",
       "      <td>359479655</td>\n",
       "      <td>1590984</td>\n",
       "    </tr>\n",
       "    <tr>\n",
       "      <th>4</th>\n",
       "      <td>2021-03-03</td>\n",
       "      <td>508665.0</td>\n",
       "      <td>2449</td>\n",
       "      <td>45214.0</td>\n",
       "      <td>9359.0</td>\n",
       "      <td>2172</td>\n",
       "      <td>45462.0</td>\n",
       "      <td>770821.0</td>\n",
       "      <td>73857281.0</td>\n",
       "      <td>267001</td>\n",
       "      <td>4260.0</td>\n",
       "      <td>3094.0</td>\n",
       "      <td>28520365.0</td>\n",
       "      <td>66836</td>\n",
       "      <td>56</td>\n",
       "      <td>357888671</td>\n",
       "      <td>1406795</td>\n",
       "    </tr>\n",
       "  </tbody>\n",
       "</table>\n",
       "</div>"
      ],
      "text/plain": [
       "        date     death  deathIncrease  inIcuCumulative  inIcuCurrently  \\\n",
       "0 2021-03-07  515151.0            842          45475.0          8134.0   \n",
       "1 2021-03-06  514309.0           1680          45453.0          8409.0   \n",
       "2 2021-03-05  512629.0           2221          45373.0          8634.0   \n",
       "3 2021-03-04  510408.0           1743          45293.0          8970.0   \n",
       "4 2021-03-03  508665.0           2449          45214.0          9359.0   \n",
       "\n",
       "   hospitalizedIncrease  hospitalizedCurrently  hospitalizedCumulative  \\\n",
       "0                   726                40199.0                776361.0   \n",
       "1                   503                41401.0                775635.0   \n",
       "2                  2781                42541.0                775132.0   \n",
       "3                  1530                44172.0                772351.0   \n",
       "4                  2172                45462.0                770821.0   \n",
       "\n",
       "     negative  negativeIncrease  onVentilatorCumulative  \\\n",
       "0  74582825.0            131835                  4281.0   \n",
       "1  74450990.0            143835                  4280.0   \n",
       "2  74307155.0            271917                  4275.0   \n",
       "3  74035238.0            177957                  4267.0   \n",
       "4  73857281.0            267001                  4260.0   \n",
       "\n",
       "   onVentilatorCurrently    positive  positiveIncrease  states  \\\n",
       "0                 2802.0  28756489.0             41835      56   \n",
       "1                 2811.0  28714654.0             60015      56   \n",
       "2                 2889.0  28654639.0             68787      56   \n",
       "3                 2973.0  28585852.0             65487      56   \n",
       "4                 3094.0  28520365.0             66836      56   \n",
       "\n",
       "   totalTestResults  totalTestResultsIncrease  \n",
       "0         363825123                   1170059  \n",
       "1         362655064                   1430992  \n",
       "2         361224072                   1744417  \n",
       "3         359479655                   1590984  \n",
       "4         357888671                   1406795  "
      ]
     },
     "execution_count": 2,
     "metadata": {},
     "output_type": "execute_result"
    }
   ],
   "source": [
    "data = pd.read_csv(\"national-history.csv\", parse_dates=[0])\n",
    "data.head()"
   ]
  },
  {
   "cell_type": "code",
   "execution_count": 3,
   "metadata": {
    "id": "8-khlptO6ezF"
   },
   "outputs": [],
   "source": [
    "# Make a list of the unique values from the region column: regions_list\n",
    "death_list = data['date'].dt.strftime('%Y-%m-%d').unique().tolist()\n",
    "\n",
    "# Make a color mapper: color_mapper\n",
    "colors = [\"red\",\"green\",\"blue\",\"black\",\"orange\",\"brown\",\"grey\",\"purple\",\"yellow\",\"cyan\",\"pink\",\"peru\"]\n",
    "color_mapper = CategoricalColorMapper(factors=death_list[0:12], palette=colors)"
   ]
  },
  {
   "cell_type": "code",
   "execution_count": 4,
   "metadata": {},
   "outputs": [
    {
     "data": {
      "text/plain": [
       "0     842\n",
       "1    1680\n",
       "2    2221\n",
       "3    1743\n",
       "4    2449\n",
       "Name: deathIncrease, dtype: int64"
      ]
     },
     "execution_count": 4,
     "metadata": {},
     "output_type": "execute_result"
    }
   ],
   "source": [
    "data.loc[[0,1,2,3,4]].deathIncrease"
   ]
  },
  {
   "cell_type": "code",
   "execution_count": 5,
   "metadata": {
    "id": "DurIsbUY8-Gm"
   },
   "outputs": [
    {
     "data": {
      "text/html": [
       "<div style=\"display: table;\"><div style=\"display: table-row;\"><div style=\"display: table-cell;\"><b title=\"bokeh.models.sources.ColumnDataSource\">ColumnDataSource</b>(</div><div style=\"display: table-cell;\">id&nbsp;=&nbsp;'1003', <span id=\"1005\" style=\"cursor: pointer;\">&hellip;)</span></div></div><div class=\"1004\" style=\"display: none;\"><div style=\"display: table-cell;\"></div><div style=\"display: table-cell;\">data&nbsp;=&nbsp;{'states': [56, 56, 56, 56, 56, 56], 'x': {'__ndarray__': 'AADAvJ+Ad0IAAABXTYB3QgAAQPH6f3dCAACAi6h/d0IAAMAlVn93QgAAAMADf3dC', 'shape': (6,), 'dtype': 'float64', 'order': 'little'}, 'y': {'__ndarray__': 'AAAAADxxH0EAAAAAFGQfQQAAAADUSR9BAAAAACAnH0EAAAAA5AsfQQAAAACg5R5B', 'shape': (6,), 'dtype': 'float64', 'order': 'little'}},</div></div><div class=\"1004\" style=\"display: none;\"><div style=\"display: table-cell;\"></div><div style=\"display: table-cell;\">js_event_callbacks&nbsp;=&nbsp;{},</div></div><div class=\"1004\" style=\"display: none;\"><div style=\"display: table-cell;\"></div><div style=\"display: table-cell;\">js_property_callbacks&nbsp;=&nbsp;{},</div></div><div class=\"1004\" style=\"display: none;\"><div style=\"display: table-cell;\"></div><div style=\"display: table-cell;\">name&nbsp;=&nbsp;None,</div></div><div class=\"1004\" style=\"display: none;\"><div style=\"display: table-cell;\"></div><div style=\"display: table-cell;\">selected&nbsp;=&nbsp;Selection(id='1007', ...),</div></div><div class=\"1004\" style=\"display: none;\"><div style=\"display: table-cell;\"></div><div style=\"display: table-cell;\">selection_policy&nbsp;=&nbsp;UnionRenderers(id='1006', ...),</div></div><div class=\"1004\" style=\"display: none;\"><div style=\"display: table-cell;\"></div><div style=\"display: table-cell;\">subscribed_events&nbsp;=&nbsp;[],</div></div><div class=\"1004\" style=\"display: none;\"><div style=\"display: table-cell;\"></div><div style=\"display: table-cell;\">syncable&nbsp;=&nbsp;True,</div></div><div class=\"1004\" style=\"display: none;\"><div style=\"display: table-cell;\"></div><div style=\"display: table-cell;\">tags&nbsp;=&nbsp;[])</div></div></div>\n",
       "<script>\n",
       "(function() {\n",
       "  let expanded = false;\n",
       "  const ellipsis = document.getElementById(\"1005\");\n",
       "  ellipsis.addEventListener(\"click\", function() {\n",
       "    const rows = document.getElementsByClassName(\"1004\");\n",
       "    for (let i = 0; i < rows.length; i++) {\n",
       "      const el = rows[i];\n",
       "      el.style.display = expanded ? \"none\" : \"table-row\";\n",
       "    }\n",
       "    ellipsis.innerHTML = expanded ? \"&hellip;)\" : \"&lsaquo;&lsaquo;&lsaquo;\";\n",
       "    expanded = !expanded;\n",
       "  });\n",
       "})();\n",
       "</script>\n"
      ],
      "text/plain": [
       "ColumnDataSource(id='1003', ...)"
      ]
     },
     "execution_count": 5,
     "metadata": {},
     "output_type": "execute_result"
    }
   ],
   "source": [
    "#Make the ColumnDataSource: source\n",
    "source = ColumnDataSource(data={\n",
    "    \"x\": data.loc[[0,1,2,3,4,5]].date,\n",
    "    \"y\": data.loc[[0,1,2,3,4,5]].death,\n",
    "    \"states\" : data.loc[[0,1,2,3,4,5]].states\n",
    "})\n",
    "source"
   ]
  },
  {
   "cell_type": "code",
   "execution_count": 6,
   "metadata": {
    "colab": {
     "base_uri": "https://localhost:8080/"
    },
    "id": "eorjuVj59DOa",
    "outputId": "4637fe67-3e3a-403d-8b60-eaf4447ce193"
   },
   "outputs": [
    {
     "name": "stderr",
     "output_type": "stream",
     "text": [
      "BokehDeprecationWarning: 'WidgetBox' is deprecated and will be removed in Bokeh 3.0, use 'bokeh.models.Column' instead\n",
      "WARNING:bokeh.embed.util:\n",
      "You are generating standalone HTML/JS output, but trying to use real Python\n",
      "callbacks (i.e. with on_change or on_event). This combination cannot work.\n",
      "\n",
      "Only JavaScript callbacks may be used with standalone output. For more\n",
      "information on JavaScript callbacks with Bokeh, see:\n",
      "\n",
      "    https://docs.bokeh.org/en/latest/docs/user_guide/interaction/callbacks.html\n",
      "\n",
      "Alternatively, to use real Python callbacks, a Bokeh server application may\n",
      "be used. For more information on building and running Bokeh applications, see:\n",
      "\n",
      "    https://docs.bokeh.org/en/latest/docs/user_guide/server.html\n",
      "\n"
     ]
    }
   ],
   "source": [
    "# Create the figure: plot\n",
    "plot = figure(title='Covid-19 Death Rate', x_axis_label='Date', y_axis_label='Death',\n",
    "           plot_height=400, plot_width=700, x_axis_type=\"datetime\", tools=[HoverTool(tooltips='@x')])\n",
    "\n",
    "# Add a circle glyph to the figure p\n",
    "# plot.circle(x='x', y='y', source=source, fill_alpha=0.8,\n",
    "#            color=dict(field='states', transform=color_mapper), legend_label='DeathIncrease')\n",
    "plot.circle(x='x', y='y', source=source, fill_alpha=0.8, legend_label='DeathIncrease')\n",
    "\n",
    "# Set the legend and axis attributes\n",
    "plot.legend.location = 'bottom_left'\n",
    "\n",
    "\n",
    "# Define the callback function: update_plot\n",
    "def update(attr, old, new):\n",
    "    # set the `dt` name to `slider.value` and `source.data = new_data`\n",
    "    dt = slider.value\n",
    "    date = date_select.value\n",
    "    death = death_select.value\n",
    "    # Label axes of plot\n",
    "    plot.xaxis.axis_label = c1\n",
    "    plot.yaxis.axis_label = c2\n",
    "    # new data\n",
    "    new_data = {\n",
    "        'Date'        : data.loc[date,c1].date,\n",
    "        'Death'       : data.loc[date,c2].death,\n",
    "        \"deathIncrease\" : data.loc[date].deathIncrease\n",
    "    }\n",
    "    source.data = new_data\n",
    "\n",
    "# # Make a slider object: slider\n",
    "# slider = Slider(start=1970, end=2010, step=1, value=1970, title='Year')\n",
    "# slider.on_change('value',update)\n",
    "\n",
    "# Make dropdown menu for x and y axis\n",
    "# Create a dropdown Select widget for the x data: x_select\n",
    "x_select = Select(\n",
    "    options=['deathIncrease', 'hospitalizedIncrease', 'negativeIncrease', 'positiveIncrease'],\n",
    "    value='date',\n",
    "    title='Date_axis'\n",
    ")\n",
    "# Attach the update_plot callback to the 'value' property of x_select\n",
    "x_select.on_change('value', update)\n",
    "\n",
    "# Create a dropdown Select widget for the y data: y_select\n",
    "y_select = Select(\n",
    "    options=['deathIncrease', 'hospitalizedIncrease', 'negativeIncrease', 'positiveIncrease'],\n",
    "    value='death',\n",
    "    title='Death_axis'\n",
    ")\n",
    "# Attach the update_plot callback to the 'value' property of y_select\n",
    "y_select.on_change('value', update)\n",
    "\n",
    "# Create layout and add to current document\n",
    "layout = row(widgetbox(x_select, y_select), plot)\n",
    "curdoc().add_root(layout)\n",
    "\n",
    "show(layout)"
   ]
  }
 ],
 "metadata": {
  "colab": {
   "collapsed_sections": [],
   "name": "TugasBesar.ipynb",
   "provenance": []
  },
  "kernelspec": {
   "display_name": "Python 3 (ipykernel)",
   "language": "python",
   "name": "python3"
  },
  "language_info": {
   "codemirror_mode": {
    "name": "ipython",
    "version": 3
   },
   "file_extension": ".py",
   "mimetype": "text/x-python",
   "name": "python",
   "nbconvert_exporter": "python",
   "pygments_lexer": "ipython3",
   "version": "3.9.0"
  }
 },
 "nbformat": 4,
 "nbformat_minor": 1
}
